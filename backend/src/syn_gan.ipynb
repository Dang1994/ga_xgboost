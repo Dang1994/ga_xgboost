{
 "cells": [
  {
   "cell_type": "code",
   "execution_count": 3,
   "id": "c37d1b7c-530a-4ed1-8036-01b4e4fa6496",
   "metadata": {},
   "outputs": [
    {
     "name": "stdout",
     "output_type": "stream",
     "text": [
      "Collecting ctgan\n",
      "  Downloading ctgan-0.10.2-py3-none-any.whl.metadata (10 kB)\n",
      "Requirement already satisfied: tqdm<5,>=4.29 in c:\\users\\user\\anaconda3\\lib\\site-packages (from ctgan) (4.66.4)\n",
      "Collecting rdt>=1.11.0 (from ctgan)\n",
      "  Downloading rdt-1.14.0-py3-none-any.whl.metadata (10 kB)\n",
      "Requirement already satisfied: numpy>=1.26.0 in c:\\users\\user\\anaconda3\\lib\\site-packages (from ctgan) (1.26.4)\n",
      "Requirement already satisfied: pandas>=2.1.1 in c:\\users\\user\\anaconda3\\lib\\site-packages (from ctgan) (2.2.2)\n",
      "Requirement already satisfied: torch>=2.2.0 in c:\\users\\user\\anaconda3\\lib\\site-packages (from ctgan) (2.4.0)\n",
      "Requirement already satisfied: python-dateutil>=2.8.2 in c:\\users\\user\\anaconda3\\lib\\site-packages (from pandas>=2.1.1->ctgan) (2.9.0.post0)\n",
      "Requirement already satisfied: pytz>=2020.1 in c:\\users\\user\\anaconda3\\lib\\site-packages (from pandas>=2.1.1->ctgan) (2024.1)\n",
      "Requirement already satisfied: tzdata>=2022.7 in c:\\users\\user\\anaconda3\\lib\\site-packages (from pandas>=2.1.1->ctgan) (2023.3)\n",
      "Requirement already satisfied: scipy>=1.12.0 in c:\\users\\user\\anaconda3\\lib\\site-packages (from rdt>=1.11.0->ctgan) (1.13.1)\n",
      "Requirement already satisfied: scikit-learn>=1.3.1 in c:\\users\\user\\anaconda3\\lib\\site-packages (from rdt>=1.11.0->ctgan) (1.4.2)\n",
      "Requirement already satisfied: Faker>=17 in c:\\users\\user\\anaconda3\\lib\\site-packages (from rdt>=1.11.0->ctgan) (28.1.0)\n",
      "Requirement already satisfied: filelock in c:\\users\\user\\anaconda3\\lib\\site-packages (from torch>=2.2.0->ctgan) (3.13.1)\n",
      "Requirement already satisfied: typing-extensions>=4.8.0 in c:\\users\\user\\anaconda3\\lib\\site-packages (from torch>=2.2.0->ctgan) (4.12.2)\n",
      "Requirement already satisfied: sympy in c:\\users\\user\\anaconda3\\lib\\site-packages (from torch>=2.2.0->ctgan) (1.12)\n",
      "Requirement already satisfied: networkx in c:\\users\\user\\anaconda3\\lib\\site-packages (from torch>=2.2.0->ctgan) (3.2.1)\n",
      "Requirement already satisfied: jinja2 in c:\\users\\user\\anaconda3\\lib\\site-packages (from torch>=2.2.0->ctgan) (3.1.4)\n",
      "Requirement already satisfied: fsspec in c:\\users\\user\\anaconda3\\lib\\site-packages (from torch>=2.2.0->ctgan) (2024.3.1)\n",
      "Requirement already satisfied: setuptools in c:\\users\\user\\anaconda3\\lib\\site-packages (from torch>=2.2.0->ctgan) (69.5.1)\n",
      "Requirement already satisfied: colorama in c:\\users\\user\\anaconda3\\lib\\site-packages (from tqdm<5,>=4.29->ctgan) (0.4.6)\n",
      "Requirement already satisfied: six>=1.5 in c:\\users\\user\\anaconda3\\lib\\site-packages (from python-dateutil>=2.8.2->pandas>=2.1.1->ctgan) (1.16.0)\n",
      "Requirement already satisfied: joblib>=1.2.0 in c:\\users\\user\\anaconda3\\lib\\site-packages (from scikit-learn>=1.3.1->rdt>=1.11.0->ctgan) (1.4.2)\n",
      "Requirement already satisfied: threadpoolctl>=2.0.0 in c:\\users\\user\\anaconda3\\lib\\site-packages (from scikit-learn>=1.3.1->rdt>=1.11.0->ctgan) (2.2.0)\n",
      "Requirement already satisfied: MarkupSafe>=2.0 in c:\\users\\user\\anaconda3\\lib\\site-packages (from jinja2->torch>=2.2.0->ctgan) (2.1.3)\n",
      "Requirement already satisfied: mpmath>=0.19 in c:\\users\\user\\anaconda3\\lib\\site-packages (from sympy->torch>=2.2.0->ctgan) (1.3.0)\n",
      "Downloading ctgan-0.10.2-py3-none-any.whl (23 kB)\n",
      "Downloading rdt-1.14.0-py3-none-any.whl (68 kB)\n",
      "   ---------------------------------------- 0.0/68.5 kB ? eta -:--:--\n",
      "   ----------------------------------- ---- 61.4/68.5 kB 1.7 MB/s eta 0:00:01\n",
      "   ---------------------------------------- 68.5/68.5 kB 1.2 MB/s eta 0:00:00\n",
      "Installing collected packages: rdt, ctgan\n",
      "Successfully installed ctgan-0.10.2 rdt-1.14.0\n",
      "Note: you may need to restart the kernel to use updated packages.\n"
     ]
    }
   ],
   "source": [
    "pip install ctgan"
   ]
  },
  {
   "cell_type": "code",
   "execution_count": 9,
   "id": "116204db-6728-4560-bb7b-eee68441d9e3",
   "metadata": {},
   "outputs": [
    {
     "name": "stdout",
     "output_type": "stream",
     "text": [
      "Collecting sdv\n",
      "  Downloading sdv-1.17.4-py3-none-any.whl.metadata (13 kB)\n",
      "Collecting boto3<2.0.0,>=1.28 (from sdv)\n",
      "  Downloading boto3-1.36.18-py3-none-any.whl.metadata (6.7 kB)\n",
      "Requirement already satisfied: botocore<2.0.0,>=1.31 in c:\\users\\user\\anaconda3\\lib\\site-packages (from sdv) (1.34.69)\n",
      "Requirement already satisfied: cloudpickle>=2.1.0 in c:\\users\\user\\anaconda3\\lib\\site-packages (from sdv) (2.2.1)\n",
      "Requirement already satisfied: graphviz>=0.13.2 in c:\\users\\user\\anaconda3\\lib\\site-packages (from sdv) (0.20.3)\n",
      "Requirement already satisfied: numpy>=1.26.0 in c:\\users\\user\\anaconda3\\lib\\site-packages (from sdv) (1.26.4)\n",
      "Requirement already satisfied: pandas>=2.1.1 in c:\\users\\user\\anaconda3\\lib\\site-packages (from sdv) (2.2.2)\n",
      "Requirement already satisfied: tqdm>=4.29 in c:\\users\\user\\anaconda3\\lib\\site-packages (from sdv) (4.66.4)\n",
      "Collecting copulas>=0.12.0 (from sdv)\n",
      "  Downloading copulas-0.12.1-py3-none-any.whl.metadata (9.4 kB)\n",
      "Requirement already satisfied: ctgan>=0.10.2 in c:\\users\\user\\anaconda3\\lib\\site-packages (from sdv) (0.10.2)\n",
      "Collecting deepecho>=0.6.1 (from sdv)\n",
      "  Downloading deepecho-0.6.1-py3-none-any.whl.metadata (10 kB)\n",
      "Requirement already satisfied: rdt>=1.13.2 in c:\\users\\user\\anaconda3\\lib\\site-packages (from sdv) (1.14.0)\n",
      "Collecting sdmetrics>=0.17.0 (from sdv)\n",
      "  Downloading sdmetrics-0.18.0-py3-none-any.whl.metadata (8.8 kB)\n",
      "Collecting platformdirs>=4.0 (from sdv)\n",
      "  Using cached platformdirs-4.3.6-py3-none-any.whl.metadata (11 kB)\n",
      "Requirement already satisfied: pyyaml>=6.0.1 in c:\\users\\user\\anaconda3\\lib\\site-packages (from sdv) (6.0.1)\n",
      "Collecting botocore<2.0.0,>=1.31 (from sdv)\n",
      "  Downloading botocore-1.36.18-py3-none-any.whl.metadata (5.7 kB)\n",
      "Requirement already satisfied: jmespath<2.0.0,>=0.7.1 in c:\\users\\user\\anaconda3\\lib\\site-packages (from boto3<2.0.0,>=1.28->sdv) (1.0.1)\n",
      "Collecting s3transfer<0.12.0,>=0.11.0 (from boto3<2.0.0,>=1.28->sdv)\n",
      "  Downloading s3transfer-0.11.2-py3-none-any.whl.metadata (1.7 kB)\n",
      "Requirement already satisfied: python-dateutil<3.0.0,>=2.1 in c:\\users\\user\\anaconda3\\lib\\site-packages (from botocore<2.0.0,>=1.31->sdv) (2.9.0.post0)\n",
      "Requirement already satisfied: urllib3!=2.2.0,<3,>=1.25.4 in c:\\users\\user\\anaconda3\\lib\\site-packages (from botocore<2.0.0,>=1.31->sdv) (2.2.2)\n",
      "Requirement already satisfied: plotly>=5.10.0 in c:\\users\\user\\anaconda3\\lib\\site-packages (from copulas>=0.12.0->sdv) (5.22.0)\n",
      "Requirement already satisfied: scipy>=1.12.0 in c:\\users\\user\\anaconda3\\lib\\site-packages (from copulas>=0.12.0->sdv) (1.13.1)\n",
      "Requirement already satisfied: torch>=2.2.0 in c:\\users\\user\\anaconda3\\lib\\site-packages (from ctgan>=0.10.2->sdv) (2.4.0)\n",
      "Requirement already satisfied: pytz>=2020.1 in c:\\users\\user\\anaconda3\\lib\\site-packages (from pandas>=2.1.1->sdv) (2024.1)\n",
      "Requirement already satisfied: tzdata>=2022.7 in c:\\users\\user\\anaconda3\\lib\\site-packages (from pandas>=2.1.1->sdv) (2023.3)\n",
      "Requirement already satisfied: scikit-learn>=1.3.1 in c:\\users\\user\\anaconda3\\lib\\site-packages (from rdt>=1.13.2->sdv) (1.4.2)\n",
      "Requirement already satisfied: Faker>=17 in c:\\users\\user\\anaconda3\\lib\\site-packages (from rdt>=1.13.2->sdv) (28.1.0)\n",
      "Requirement already satisfied: colorama in c:\\users\\user\\anaconda3\\lib\\site-packages (from tqdm>=4.29->sdv) (0.4.6)\n",
      "Requirement already satisfied: tenacity>=6.2.0 in c:\\users\\user\\anaconda3\\lib\\site-packages (from plotly>=5.10.0->copulas>=0.12.0->sdv) (8.2.2)\n",
      "Requirement already satisfied: packaging in c:\\users\\user\\anaconda3\\lib\\site-packages (from plotly>=5.10.0->copulas>=0.12.0->sdv) (23.2)\n",
      "Requirement already satisfied: six>=1.5 in c:\\users\\user\\anaconda3\\lib\\site-packages (from python-dateutil<3.0.0,>=2.1->botocore<2.0.0,>=1.31->sdv) (1.16.0)\n",
      "Requirement already satisfied: joblib>=1.2.0 in c:\\users\\user\\anaconda3\\lib\\site-packages (from scikit-learn>=1.3.1->rdt>=1.13.2->sdv) (1.4.2)\n",
      "Requirement already satisfied: threadpoolctl>=2.0.0 in c:\\users\\user\\anaconda3\\lib\\site-packages (from scikit-learn>=1.3.1->rdt>=1.13.2->sdv) (2.2.0)\n",
      "Requirement already satisfied: filelock in c:\\users\\user\\anaconda3\\lib\\site-packages (from torch>=2.2.0->ctgan>=0.10.2->sdv) (3.13.1)\n",
      "Requirement already satisfied: typing-extensions>=4.8.0 in c:\\users\\user\\anaconda3\\lib\\site-packages (from torch>=2.2.0->ctgan>=0.10.2->sdv) (4.12.2)\n",
      "Requirement already satisfied: sympy in c:\\users\\user\\anaconda3\\lib\\site-packages (from torch>=2.2.0->ctgan>=0.10.2->sdv) (1.12)\n",
      "Requirement already satisfied: networkx in c:\\users\\user\\anaconda3\\lib\\site-packages (from torch>=2.2.0->ctgan>=0.10.2->sdv) (3.2.1)\n",
      "Requirement already satisfied: jinja2 in c:\\users\\user\\anaconda3\\lib\\site-packages (from torch>=2.2.0->ctgan>=0.10.2->sdv) (3.1.4)\n",
      "Requirement already satisfied: fsspec in c:\\users\\user\\anaconda3\\lib\\site-packages (from torch>=2.2.0->ctgan>=0.10.2->sdv) (2024.3.1)\n",
      "Requirement already satisfied: setuptools in c:\\users\\user\\anaconda3\\lib\\site-packages (from torch>=2.2.0->ctgan>=0.10.2->sdv) (69.5.1)\n",
      "Requirement already satisfied: MarkupSafe>=2.0 in c:\\users\\user\\anaconda3\\lib\\site-packages (from jinja2->torch>=2.2.0->ctgan>=0.10.2->sdv) (2.1.3)\n",
      "Requirement already satisfied: mpmath>=0.19 in c:\\users\\user\\anaconda3\\lib\\site-packages (from sympy->torch>=2.2.0->ctgan>=0.10.2->sdv) (1.3.0)\n",
      "Downloading sdv-1.17.4-py3-none-any.whl (154 kB)\n",
      "   ---------------------------------------- 0.0/155.0 kB ? eta -:--:--\n",
      "   ----------------------- ---------------- 92.2/155.0 kB 2.6 MB/s eta 0:00:01\n",
      "   ---------------------------------------- 155.0/155.0 kB 2.3 MB/s eta 0:00:00\n",
      "Downloading boto3-1.36.18-py3-none-any.whl (139 kB)\n",
      "   ---------------------------------------- 0.0/139.2 kB ? eta -:--:--\n",
      "   ---------------------------------------- 139.2/139.2 kB 8.6 MB/s eta 0:00:00\n",
      "Downloading botocore-1.36.18-py3-none-any.whl (13.3 MB)\n",
      "   ---------------------------------------- 0.0/13.3 MB ? eta -:--:--\n",
      "   -- ------------------------------------- 0.8/13.3 MB 16.8 MB/s eta 0:00:01\n",
      "   ------ --------------------------------- 2.1/13.3 MB 22.1 MB/s eta 0:00:01\n",
      "   ---------- ----------------------------- 3.4/13.3 MB 23.7 MB/s eta 0:00:01\n",
      "   -------------- ------------------------- 4.9/13.3 MB 26.0 MB/s eta 0:00:01\n",
      "   ------------------ --------------------- 6.3/13.3 MB 26.8 MB/s eta 0:00:01\n",
      "   ------------------------ --------------- 8.0/13.3 MB 28.4 MB/s eta 0:00:01\n",
      "   ---------------------------- ----------- 9.5/13.3 MB 29.1 MB/s eta 0:00:01\n",
      "   --------------------------------- ------ 11.3/13.3 MB 31.2 MB/s eta 0:00:01\n",
      "   -------------------------------------- - 12.7/13.3 MB 32.8 MB/s eta 0:00:01\n",
      "   ---------------------------------------  13.3/13.3 MB 31.2 MB/s eta 0:00:01\n",
      "   ---------------------------------------  13.3/13.3 MB 31.2 MB/s eta 0:00:01\n",
      "   ---------------------------------------- 13.3/13.3 MB 25.1 MB/s eta 0:00:00\n",
      "Downloading copulas-0.12.1-py3-none-any.whl (52 kB)\n",
      "   ---------------------------------------- 0.0/52.5 kB ? eta -:--:--\n",
      "   ---------------------------------------- 52.5/52.5 kB 2.8 MB/s eta 0:00:00\n",
      "Downloading deepecho-0.6.1-py3-none-any.whl (27 kB)\n",
      "Using cached platformdirs-4.3.6-py3-none-any.whl (18 kB)\n",
      "Downloading sdmetrics-0.18.0-py3-none-any.whl (179 kB)\n",
      "   ---------------------------------------- 0.0/179.1 kB ? eta -:--:--\n",
      "   --------------------------------------- 179.1/179.1 kB 10.6 MB/s eta 0:00:00\n",
      "Downloading s3transfer-0.11.2-py3-none-any.whl (84 kB)\n",
      "   ---------------------------------------- 0.0/84.2 kB ? eta -:--:--\n",
      "   ---------------------------------------- 84.2/84.2 kB 4.6 MB/s eta 0:00:00\n",
      "Installing collected packages: platformdirs, botocore, s3transfer, deepecho, copulas, sdmetrics, boto3, sdv\n",
      "  Attempting uninstall: platformdirs\n",
      "    Found existing installation: platformdirs 3.10.0\n",
      "    Uninstalling platformdirs-3.10.0:\n",
      "      Successfully uninstalled platformdirs-3.10.0\n",
      "  Attempting uninstall: botocore\n",
      "    Found existing installation: botocore 1.34.69\n",
      "    Uninstalling botocore-1.34.69:\n",
      "      Successfully uninstalled botocore-1.34.69\n",
      "Successfully installed boto3-1.36.18 botocore-1.36.18 copulas-0.12.1 deepecho-0.6.1 platformdirs-4.3.6 s3transfer-0.11.2 sdmetrics-0.18.0 sdv-1.17.4\n"
     ]
    },
    {
     "name": "stderr",
     "output_type": "stream",
     "text": [
      "ERROR: pip's dependency resolver does not currently take into account all the packages that are installed. This behaviour is the source of the following dependency conflicts.\n",
      "aiobotocore 2.12.3 requires botocore<1.34.70,>=1.34.41, but you have botocore 1.36.18 which is incompatible.\n"
     ]
    }
   ],
   "source": [
    "!pip install sdv"
   ]
  },
  {
   "cell_type": "code",
   "execution_count": 11,
   "id": "11e5481f-bbcb-4a6b-8695-820799eeb2e4",
   "metadata": {},
   "outputs": [
    {
     "ename": "OSError",
     "evalue": "[WinError 126] The specified module could not be found. Error loading \"C:\\Users\\User\\anaconda3\\Lib\\site-packages\\torch\\lib\\fbgemm.dll\" or one of its dependencies.",
     "output_type": "error",
     "traceback": [
      "\u001b[1;31m---------------------------------------------------------------------------\u001b[0m",
      "\u001b[1;31mOSError\u001b[0m                                   Traceback (most recent call last)",
      "Cell \u001b[1;32mIn[11], line 1\u001b[0m\n\u001b[1;32m----> 1\u001b[0m \u001b[38;5;28;01mfrom\u001b[39;00m \u001b[38;5;21;01msdv\u001b[39;00m\u001b[38;5;21;01m.\u001b[39;00m\u001b[38;5;21;01mtabular\u001b[39;00m \u001b[38;5;28;01mimport\u001b[39;00m CTGAN\n",
      "File \u001b[1;32m~\\anaconda3\\Lib\\site-packages\\sdv\\__init__.py:18\u001b[0m\n\u001b[0;32m     15\u001b[0m \u001b[38;5;28;01mfrom\u001b[39;00m \u001b[38;5;21;01moperator\u001b[39;00m \u001b[38;5;28;01mimport\u001b[39;00m attrgetter\n\u001b[0;32m     16\u001b[0m \u001b[38;5;28;01mfrom\u001b[39;00m \u001b[38;5;21;01mtypes\u001b[39;00m \u001b[38;5;28;01mimport\u001b[39;00m ModuleType\n\u001b[1;32m---> 18\u001b[0m \u001b[38;5;28;01mfrom\u001b[39;00m \u001b[38;5;21;01msdv\u001b[39;00m \u001b[38;5;28;01mimport\u001b[39;00m (\n\u001b[0;32m     19\u001b[0m     constraints,\n\u001b[0;32m     20\u001b[0m     data_processing,\n\u001b[0;32m     21\u001b[0m     datasets,\n\u001b[0;32m     22\u001b[0m     evaluation,\n\u001b[0;32m     23\u001b[0m     io,\n\u001b[0;32m     24\u001b[0m     lite,\n\u001b[0;32m     25\u001b[0m     logging,\n\u001b[0;32m     26\u001b[0m     metadata,\n\u001b[0;32m     27\u001b[0m     metrics,\n\u001b[0;32m     28\u001b[0m     multi_table,\n\u001b[0;32m     29\u001b[0m     sampling,\n\u001b[0;32m     30\u001b[0m     sequential,\n\u001b[0;32m     31\u001b[0m     single_table,\n\u001b[0;32m     32\u001b[0m     version,\n\u001b[0;32m     33\u001b[0m     utils,\n\u001b[0;32m     34\u001b[0m )\n\u001b[0;32m     36\u001b[0m __all__ \u001b[38;5;241m=\u001b[39m [\n\u001b[0;32m     37\u001b[0m     \u001b[38;5;124m'\u001b[39m\u001b[38;5;124mconstraints\u001b[39m\u001b[38;5;124m'\u001b[39m,\n\u001b[0;32m     38\u001b[0m     \u001b[38;5;124m'\u001b[39m\u001b[38;5;124mdata_processing\u001b[39m\u001b[38;5;124m'\u001b[39m,\n\u001b[1;32m   (...)\u001b[0m\n\u001b[0;32m     51\u001b[0m     \u001b[38;5;124m'\u001b[39m\u001b[38;5;124mutils\u001b[39m\u001b[38;5;124m'\u001b[39m,\n\u001b[0;32m     52\u001b[0m ]\n\u001b[0;32m     55\u001b[0m \u001b[38;5;28;01mdef\u001b[39;00m \u001b[38;5;21m_get_addon_target\u001b[39m(addon_path_name):\n",
      "File \u001b[1;32m~\\anaconda3\\Lib\\site-packages\\sdv\\lite\\__init__.py:3\u001b[0m\n\u001b[0;32m      1\u001b[0m \u001b[38;5;124;03m\"\"\"SDV lite package that contains model presets.\"\"\"\u001b[39;00m\n\u001b[1;32m----> 3\u001b[0m \u001b[38;5;28;01mfrom\u001b[39;00m \u001b[38;5;21;01msdv\u001b[39;00m\u001b[38;5;21;01m.\u001b[39;00m\u001b[38;5;21;01mlite\u001b[39;00m\u001b[38;5;21;01m.\u001b[39;00m\u001b[38;5;21;01msingle_table\u001b[39;00m \u001b[38;5;28;01mimport\u001b[39;00m SingleTablePreset\n\u001b[0;32m      5\u001b[0m __all__ \u001b[38;5;241m=\u001b[39m (\u001b[38;5;124m'\u001b[39m\u001b[38;5;124mSingleTablePreset\u001b[39m\u001b[38;5;124m'\u001b[39m,)\n",
      "File \u001b[1;32m~\\anaconda3\\Lib\\site-packages\\sdv\\lite\\single_table.py:11\u001b[0m\n\u001b[0;32m      8\u001b[0m \u001b[38;5;28;01mimport\u001b[39;00m \u001b[38;5;21;01mcloudpickle\u001b[39;00m\n\u001b[0;32m     10\u001b[0m \u001b[38;5;28;01mfrom\u001b[39;00m \u001b[38;5;21;01msdv\u001b[39;00m\u001b[38;5;21;01m.\u001b[39;00m\u001b[38;5;21;01mmetadata\u001b[39;00m\u001b[38;5;21;01m.\u001b[39;00m\u001b[38;5;21;01mmetadata\u001b[39;00m \u001b[38;5;28;01mimport\u001b[39;00m Metadata\n\u001b[1;32m---> 11\u001b[0m \u001b[38;5;28;01mfrom\u001b[39;00m \u001b[38;5;21;01msdv\u001b[39;00m\u001b[38;5;21;01m.\u001b[39;00m\u001b[38;5;21;01msingle_table\u001b[39;00m \u001b[38;5;28;01mimport\u001b[39;00m GaussianCopulaSynthesizer\n\u001b[0;32m     13\u001b[0m LOGGER \u001b[38;5;241m=\u001b[39m logging\u001b[38;5;241m.\u001b[39mgetLogger(\u001b[38;5;18m__name__\u001b[39m)\n\u001b[0;32m     15\u001b[0m FAST_ML_PRESET \u001b[38;5;241m=\u001b[39m \u001b[38;5;124m'\u001b[39m\u001b[38;5;124mFAST_ML\u001b[39m\u001b[38;5;124m'\u001b[39m\n",
      "File \u001b[1;32m~\\anaconda3\\Lib\\site-packages\\sdv\\single_table\\__init__.py:3\u001b[0m\n\u001b[0;32m      1\u001b[0m \u001b[38;5;124;03m\"\"\"Synthesizers for Single Table data.\"\"\"\u001b[39;00m\n\u001b[1;32m----> 3\u001b[0m \u001b[38;5;28;01mfrom\u001b[39;00m \u001b[38;5;21;01msdv\u001b[39;00m\u001b[38;5;21;01m.\u001b[39;00m\u001b[38;5;21;01msingle_table\u001b[39;00m\u001b[38;5;21;01m.\u001b[39;00m\u001b[38;5;21;01mcopulagan\u001b[39;00m \u001b[38;5;28;01mimport\u001b[39;00m CopulaGANSynthesizer\n\u001b[0;32m      4\u001b[0m \u001b[38;5;28;01mfrom\u001b[39;00m \u001b[38;5;21;01msdv\u001b[39;00m\u001b[38;5;21;01m.\u001b[39;00m\u001b[38;5;21;01msingle_table\u001b[39;00m\u001b[38;5;21;01m.\u001b[39;00m\u001b[38;5;21;01mcopulas\u001b[39;00m \u001b[38;5;28;01mimport\u001b[39;00m GaussianCopulaSynthesizer\n\u001b[0;32m      5\u001b[0m \u001b[38;5;28;01mfrom\u001b[39;00m \u001b[38;5;21;01msdv\u001b[39;00m\u001b[38;5;21;01m.\u001b[39;00m\u001b[38;5;21;01msingle_table\u001b[39;00m\u001b[38;5;21;01m.\u001b[39;00m\u001b[38;5;21;01mctgan\u001b[39;00m \u001b[38;5;28;01mimport\u001b[39;00m CTGANSynthesizer, TVAESynthesizer\n",
      "File \u001b[1;32m~\\anaconda3\\Lib\\site-packages\\sdv\\single_table\\copulagan.py:9\u001b[0m\n\u001b[0;32m      6\u001b[0m \u001b[38;5;28;01mimport\u001b[39;00m \u001b[38;5;21;01mrdt\u001b[39;00m\n\u001b[0;32m      8\u001b[0m \u001b[38;5;28;01mfrom\u001b[39;00m \u001b[38;5;21;01msdv\u001b[39;00m\u001b[38;5;21;01m.\u001b[39;00m\u001b[38;5;21;01msingle_table\u001b[39;00m\u001b[38;5;21;01m.\u001b[39;00m\u001b[38;5;21;01mcopulas\u001b[39;00m \u001b[38;5;28;01mimport\u001b[39;00m GaussianCopulaSynthesizer\n\u001b[1;32m----> 9\u001b[0m \u001b[38;5;28;01mfrom\u001b[39;00m \u001b[38;5;21;01msdv\u001b[39;00m\u001b[38;5;21;01m.\u001b[39;00m\u001b[38;5;21;01msingle_table\u001b[39;00m\u001b[38;5;21;01m.\u001b[39;00m\u001b[38;5;21;01mctgan\u001b[39;00m \u001b[38;5;28;01mimport\u001b[39;00m CTGANSynthesizer\n\u001b[0;32m     10\u001b[0m \u001b[38;5;28;01mfrom\u001b[39;00m \u001b[38;5;21;01msdv\u001b[39;00m\u001b[38;5;21;01m.\u001b[39;00m\u001b[38;5;21;01msingle_table\u001b[39;00m\u001b[38;5;21;01m.\u001b[39;00m\u001b[38;5;21;01mutils\u001b[39;00m \u001b[38;5;28;01mimport\u001b[39;00m (\n\u001b[0;32m     11\u001b[0m     validate_numerical_distributions,\n\u001b[0;32m     12\u001b[0m     warn_missing_numerical_distributions,\n\u001b[0;32m     13\u001b[0m )\n\u001b[0;32m     15\u001b[0m LOGGER \u001b[38;5;241m=\u001b[39m logging\u001b[38;5;241m.\u001b[39mgetLogger(\u001b[38;5;18m__name__\u001b[39m)\n",
      "File \u001b[1;32m~\\anaconda3\\Lib\\site-packages\\sdv\\single_table\\ctgan.py:8\u001b[0m\n\u001b[0;32m      6\u001b[0m \u001b[38;5;28;01mimport\u001b[39;00m \u001b[38;5;21;01mpandas\u001b[39;00m \u001b[38;5;28;01mas\u001b[39;00m \u001b[38;5;21;01mpd\u001b[39;00m\n\u001b[0;32m      7\u001b[0m \u001b[38;5;28;01mimport\u001b[39;00m \u001b[38;5;21;01mplotly\u001b[39;00m\u001b[38;5;21;01m.\u001b[39;00m\u001b[38;5;21;01mexpress\u001b[39;00m \u001b[38;5;28;01mas\u001b[39;00m \u001b[38;5;21;01mpx\u001b[39;00m\n\u001b[1;32m----> 8\u001b[0m \u001b[38;5;28;01mfrom\u001b[39;00m \u001b[38;5;21;01mctgan\u001b[39;00m \u001b[38;5;28;01mimport\u001b[39;00m CTGAN, TVAE\n\u001b[0;32m      9\u001b[0m \u001b[38;5;28;01mfrom\u001b[39;00m \u001b[38;5;21;01msdmetrics\u001b[39;00m \u001b[38;5;28;01mimport\u001b[39;00m visualization\n\u001b[0;32m     11\u001b[0m \u001b[38;5;28;01mfrom\u001b[39;00m \u001b[38;5;21;01msdv\u001b[39;00m\u001b[38;5;21;01m.\u001b[39;00m\u001b[38;5;21;01merrors\u001b[39;00m \u001b[38;5;28;01mimport\u001b[39;00m InvalidDataTypeError, NotFittedError\n",
      "File \u001b[1;32m~\\anaconda3\\Lib\\site-packages\\ctgan\\__init__.py:10\u001b[0m\n\u001b[0;32m      7\u001b[0m __version__ \u001b[38;5;241m=\u001b[39m \u001b[38;5;124m'\u001b[39m\u001b[38;5;124m0.10.2\u001b[39m\u001b[38;5;124m'\u001b[39m\n\u001b[0;32m      9\u001b[0m \u001b[38;5;28;01mfrom\u001b[39;00m \u001b[38;5;21;01mctgan\u001b[39;00m\u001b[38;5;21;01m.\u001b[39;00m\u001b[38;5;21;01mdemo\u001b[39;00m \u001b[38;5;28;01mimport\u001b[39;00m load_demo\n\u001b[1;32m---> 10\u001b[0m \u001b[38;5;28;01mfrom\u001b[39;00m \u001b[38;5;21;01mctgan\u001b[39;00m\u001b[38;5;21;01m.\u001b[39;00m\u001b[38;5;21;01msynthesizers\u001b[39;00m\u001b[38;5;21;01m.\u001b[39;00m\u001b[38;5;21;01mctgan\u001b[39;00m \u001b[38;5;28;01mimport\u001b[39;00m CTGAN\n\u001b[0;32m     11\u001b[0m \u001b[38;5;28;01mfrom\u001b[39;00m \u001b[38;5;21;01mctgan\u001b[39;00m\u001b[38;5;21;01m.\u001b[39;00m\u001b[38;5;21;01msynthesizers\u001b[39;00m\u001b[38;5;21;01m.\u001b[39;00m\u001b[38;5;21;01mtvae\u001b[39;00m \u001b[38;5;28;01mimport\u001b[39;00m TVAE\n\u001b[0;32m     13\u001b[0m __all__ \u001b[38;5;241m=\u001b[39m (\u001b[38;5;124m'\u001b[39m\u001b[38;5;124mCTGAN\u001b[39m\u001b[38;5;124m'\u001b[39m, \u001b[38;5;124m'\u001b[39m\u001b[38;5;124mTVAE\u001b[39m\u001b[38;5;124m'\u001b[39m, \u001b[38;5;124m'\u001b[39m\u001b[38;5;124mload_demo\u001b[39m\u001b[38;5;124m'\u001b[39m)\n",
      "File \u001b[1;32m~\\anaconda3\\Lib\\site-packages\\ctgan\\synthesizers\\__init__.py:3\u001b[0m\n\u001b[0;32m      1\u001b[0m \u001b[38;5;124;03m\"\"\"Synthesizers module.\"\"\"\u001b[39;00m\n\u001b[1;32m----> 3\u001b[0m \u001b[38;5;28;01mfrom\u001b[39;00m \u001b[38;5;21;01mctgan\u001b[39;00m\u001b[38;5;21;01m.\u001b[39;00m\u001b[38;5;21;01msynthesizers\u001b[39;00m\u001b[38;5;21;01m.\u001b[39;00m\u001b[38;5;21;01mctgan\u001b[39;00m \u001b[38;5;28;01mimport\u001b[39;00m CTGAN\n\u001b[0;32m      4\u001b[0m \u001b[38;5;28;01mfrom\u001b[39;00m \u001b[38;5;21;01mctgan\u001b[39;00m\u001b[38;5;21;01m.\u001b[39;00m\u001b[38;5;21;01msynthesizers\u001b[39;00m\u001b[38;5;21;01m.\u001b[39;00m\u001b[38;5;21;01mtvae\u001b[39;00m \u001b[38;5;28;01mimport\u001b[39;00m TVAE\n\u001b[0;32m      6\u001b[0m __all__ \u001b[38;5;241m=\u001b[39m (\u001b[38;5;124m'\u001b[39m\u001b[38;5;124mCTGAN\u001b[39m\u001b[38;5;124m'\u001b[39m, \u001b[38;5;124m'\u001b[39m\u001b[38;5;124mTVAE\u001b[39m\u001b[38;5;124m'\u001b[39m)\n",
      "File \u001b[1;32m~\\anaconda3\\Lib\\site-packages\\ctgan\\synthesizers\\ctgan.py:7\u001b[0m\n\u001b[0;32m      5\u001b[0m \u001b[38;5;28;01mimport\u001b[39;00m \u001b[38;5;21;01mnumpy\u001b[39;00m \u001b[38;5;28;01mas\u001b[39;00m \u001b[38;5;21;01mnp\u001b[39;00m\n\u001b[0;32m      6\u001b[0m \u001b[38;5;28;01mimport\u001b[39;00m \u001b[38;5;21;01mpandas\u001b[39;00m \u001b[38;5;28;01mas\u001b[39;00m \u001b[38;5;21;01mpd\u001b[39;00m\n\u001b[1;32m----> 7\u001b[0m \u001b[38;5;28;01mimport\u001b[39;00m \u001b[38;5;21;01mtorch\u001b[39;00m\n\u001b[0;32m      8\u001b[0m \u001b[38;5;28;01mfrom\u001b[39;00m \u001b[38;5;21;01mtorch\u001b[39;00m \u001b[38;5;28;01mimport\u001b[39;00m optim\n\u001b[0;32m      9\u001b[0m \u001b[38;5;28;01mfrom\u001b[39;00m \u001b[38;5;21;01mtorch\u001b[39;00m\u001b[38;5;21;01m.\u001b[39;00m\u001b[38;5;21;01mnn\u001b[39;00m \u001b[38;5;28;01mimport\u001b[39;00m BatchNorm1d, Dropout, LeakyReLU, Linear, Module, ReLU, Sequential, functional\n",
      "File \u001b[1;32m~\\anaconda3\\Lib\\site-packages\\torch\\__init__.py:148\u001b[0m\n\u001b[0;32m    146\u001b[0m                 err \u001b[38;5;241m=\u001b[39m ctypes\u001b[38;5;241m.\u001b[39mWinError(ctypes\u001b[38;5;241m.\u001b[39mget_last_error())\n\u001b[0;32m    147\u001b[0m                 err\u001b[38;5;241m.\u001b[39mstrerror \u001b[38;5;241m+\u001b[39m\u001b[38;5;241m=\u001b[39m \u001b[38;5;124mf\u001b[39m\u001b[38;5;124m'\u001b[39m\u001b[38;5;124m Error loading \u001b[39m\u001b[38;5;124m\"\u001b[39m\u001b[38;5;132;01m{\u001b[39;00mdll\u001b[38;5;132;01m}\u001b[39;00m\u001b[38;5;124m\"\u001b[39m\u001b[38;5;124m or one of its dependencies.\u001b[39m\u001b[38;5;124m'\u001b[39m\n\u001b[1;32m--> 148\u001b[0m                 \u001b[38;5;28;01mraise\u001b[39;00m err\n\u001b[0;32m    150\u001b[0m     kernel32\u001b[38;5;241m.\u001b[39mSetErrorMode(prev_error_mode)\n\u001b[0;32m    153\u001b[0m \u001b[38;5;28;01mdef\u001b[39;00m \u001b[38;5;21m_preload_cuda_deps\u001b[39m(lib_folder, lib_name):\n",
      "\u001b[1;31mOSError\u001b[0m: [WinError 126] The specified module could not be found. Error loading \"C:\\Users\\User\\anaconda3\\Lib\\site-packages\\torch\\lib\\fbgemm.dll\" or one of its dependencies."
     ]
    }
   ],
   "source": [
    "from sdv.tabular import CTGAN"
   ]
  },
  {
   "cell_type": "code",
   "execution_count": null,
   "id": "30ea0064-d258-45b9-9ed8-29710f9cf5c2",
   "metadata": {},
   "outputs": [],
   "source": []
  }
 ],
 "metadata": {
  "kernelspec": {
   "display_name": "Python [conda env:base] *",
   "language": "python",
   "name": "conda-base-py"
  },
  "language_info": {
   "codemirror_mode": {
    "name": "ipython",
    "version": 3
   },
   "file_extension": ".py",
   "mimetype": "text/x-python",
   "name": "python",
   "nbconvert_exporter": "python",
   "pygments_lexer": "ipython3",
   "version": "3.12.4"
  }
 },
 "nbformat": 4,
 "nbformat_minor": 5
}
