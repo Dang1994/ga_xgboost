{
  "nbformat": 4,
  "nbformat_minor": 0,
  "metadata": {
    "colab": {
      "provenance": []
    },
    "kernelspec": {
      "name": "python3",
      "display_name": "Python 3"
    },
    "language_info": {
      "name": "python"
    }
  },
  "cells": [
    {
      "cell_type": "code",
      "source": [
        "import numpy as np\n",
        "import pandas as pd\n",
        "torch.manual_seed(42)\n",
        "from torch import nn, optim\n",
        "from torch.utils.data import DataLoader, TensorDataset\n",
        "import torch\n",
        "from sklearn.model_selection import train_test_split"
      ],
      "metadata": {
        "id": "K1l7SLIYS0t_"
      },
      "execution_count": 47,
      "outputs": []
    },
    {
      "cell_type": "code",
      "source": [
        "# Load original dataset\n",
        "df = pd.read_csv(\"bending_machine_data.csv\")  # Replace with actual dataset path\n",
        "target_col = \"result\"  # Define the target column"
      ],
      "metadata": {
        "id": "F6ySgS_tX_-a"
      },
      "execution_count": 48,
      "outputs": []
    },
    {
      "cell_type": "code",
      "source": [
        "# Prepare data for training\n",
        "X = df.drop(columns=[target_col]).values\n",
        "y = df[target_col].values\n",
        "input_dim = X.shape[1]"
      ],
      "metadata": {
        "id": "yU4oTxHhYABG"
      },
      "execution_count": 50,
      "outputs": []
    },
    {
      "cell_type": "code",
      "source": [
        "# Define Diffusion Model\n",
        "class DiffusionModel(nn.Module):\n",
        "    def __init__(self, input_dim, timesteps=1000):\n",
        "        super(DiffusionModel, self).__init__()\n",
        "        self.timesteps = timesteps\n",
        "        self.model = nn.Sequential(\n",
        "            nn.Linear(input_dim, 128),\n",
        "            nn.ReLU(),\n",
        "            nn.Linear(128, 128),\n",
        "            nn.ReLU(),\n",
        "            nn.Linear(128, input_dim)\n",
        "        )\n",
        "\n",
        "    def forward(self, x, t):\n",
        "        return self.model(x)"
      ],
      "metadata": {
        "id": "KleAmFVUYAEN"
      },
      "execution_count": 51,
      "outputs": []
    },
    {
      "cell_type": "code",
      "source": [
        "# Training setup\n",
        "def train_diffusion(epochs=500, batch_size=32):\n",
        "    dataset = TensorDataset(torch.tensor(X, dtype=torch.float32))\n",
        "    dataloader = DataLoader(dataset, batch_size=batch_size, shuffle=True)\n",
        "    diffusion_model = DiffusionModel(input_dim)\n",
        "    optimizer = optim.Adam(diffusion_model.parameters(), lr=0.001)\n",
        "    loss_fn = nn.MSELoss()\n",
        "\n",
        "    for epoch in range(epochs):\n",
        "        for real_data in dataloader:\n",
        "            real_data = real_data[0]\n",
        "            optimizer.zero_grad()\n",
        "            noisy_data = real_data + torch.randn_like(real_data) * 0.1  # Adding noise\n",
        "            recon_data = diffusion_model(noisy_data, None)\n",
        "            loss = loss_fn(recon_data, real_data)\n",
        "            loss.backward()\n",
        "            optimizer.step()\n",
        "\n",
        "        if epoch % 50 == 0:\n",
        "            print(f\"Epoch {epoch}: Loss {loss.item():.4f}\")\n",
        "\n",
        "train_diffusion()"
      ],
      "metadata": {
        "colab": {
          "base_uri": "https://localhost:8080/"
        },
        "id": "rPOh2gbSYAG2",
        "outputId": "6cc4b614-8843-46a6-e8ed-03fb6ea9cf1b"
      },
      "execution_count": 52,
      "outputs": [
        {
          "output_type": "stream",
          "name": "stdout",
          "text": [
            "Epoch 0: Loss 515.7001\n",
            "Epoch 50: Loss 0.2963\n",
            "Epoch 100: Loss 0.1353\n",
            "Epoch 150: Loss 0.0762\n",
            "Epoch 200: Loss 0.0366\n",
            "Epoch 250: Loss 0.0187\n",
            "Epoch 300: Loss 0.0177\n",
            "Epoch 350: Loss 0.0117\n",
            "Epoch 400: Loss 0.0179\n",
            "Epoch 450: Loss 0.0117\n"
          ]
        }
      ]
    },
    {
      "cell_type": "code",
      "source": [
        "# Generate synthetic data\n",
        "num_samples = 500\n",
        "z = torch.randn(num_samples, input_dim)\n",
        "diffusion_model = DiffusionModel(input_dim)\n",
        "synthetic_data = diffusion_model(z, None).detach().numpy()"
      ],
      "metadata": {
        "id": "8YmMjmXPYAJW"
      },
      "execution_count": 53,
      "outputs": []
    },
    {
      "cell_type": "code",
      "source": [
        "# Save synthetic data\n",
        "synthetic_df = pd.DataFrame(synthetic_data, columns=df.drop(columns=[target_col]).columns)\n",
        "synthetic_df[target_col] = np.random.uniform(y.min(), y.max(), size=synthetic_df.shape[0])\n",
        "synthetic_df.to_csv(\"dm_synthetic_data.csv\", index=False)"
      ],
      "metadata": {
        "id": "1ZQxElPJYVfJ"
      },
      "execution_count": 54,
      "outputs": []
    },
    {
      "cell_type": "code",
      "source": [
        "# Create augmented dataset\n",
        "augmented_df = pd.concat([df, synthetic_df], ignore_index=True)\n",
        "augmented_df.to_csv(\"dm_augmented_data.csv\", index=False)"
      ],
      "metadata": {
        "id": "ELWar20DYVi1"
      },
      "execution_count": 55,
      "outputs": []
    },
    {
      "cell_type": "code",
      "source": [],
      "metadata": {
        "id": "hpkX57CTYVmd"
      },
      "execution_count": 55,
      "outputs": []
    },
    {
      "cell_type": "code",
      "source": [],
      "metadata": {
        "id": "2dlSVHK-YVpN"
      },
      "execution_count": 55,
      "outputs": []
    }
  ]
}