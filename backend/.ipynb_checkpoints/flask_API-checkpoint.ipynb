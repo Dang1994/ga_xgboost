{
 "cells": [
  {
   "cell_type": "code",
   "execution_count": null,
   "id": "a21493fb-b099-4a91-a8c9-86d2a51daf41",
   "metadata": {},
   "outputs": [],
   "source": [
    "from flask import Flask, request, jsonify\n",
    "import joblib\n",
    "\n",
    "app = Flask(__name__)\n",
    "\n",
    "# Load the saved model\n",
    "model = joblib.load('xgboost_model_v1.pkl')\n",
    "\n",
    "@app.route('/predict', methods=['POST'])\n",
    "def predict():\n",
    "    # Get the JSON data from the request\n",
    "    data = request.get_json()\n",
    "    \n",
    "    # Convert the data into a list of features\n",
    "    features = [data['features']]\n",
    "    \n",
    "    # Predict using the loaded model\n",
    "    prediction = model.predict(features)\n",
    "    \n",
    "    # Return the prediction as a JSON response\n",
    "    return jsonify({'prediction': int(prediction[0])})\n",
    "\n",
    "if __name__ == '__main__':\n",
    "    app.run(debug=True)\n"
   ]
  }
 ],
 "metadata": {
  "kernelspec": {
   "display_name": "Python 3 (ipykernel)",
   "language": "python",
   "name": "python3"
  },
  "language_info": {
   "codemirror_mode": {
    "name": "ipython",
    "version": 3
   },
   "file_extension": ".py",
   "mimetype": "text/x-python",
   "name": "python",
   "nbconvert_exporter": "python",
   "pygments_lexer": "ipython3",
   "version": "3.12.4"
  }
 },
 "nbformat": 4,
 "nbformat_minor": 5
}
